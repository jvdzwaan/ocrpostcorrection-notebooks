{
 "cells": [
  {
   "cell_type": "code",
   "execution_count": null,
   "metadata": {},
   "outputs": [],
   "source": [
    "%load_ext autoreload\n",
    "%autoreload 2"
   ]
  },
  {
   "cell_type": "code",
   "execution_count": null,
   "metadata": {},
   "outputs": [],
   "source": [
    "import pandas as pd\n",
    "import matplotlib.pyplot as plt\n",
    "\n",
    "from pathlib import Path"
   ]
  },
  {
   "cell_type": "code",
   "execution_count": null,
   "metadata": {},
   "outputs": [],
   "source": [
    "data_base_dir = Path('/Users/janneke/Documents/Documents – Janneke’s MacBook/data/')\n",
    "data_base_dir.mkdir(exist_ok=True, parents=True)"
   ]
  },
  {
   "cell_type": "code",
   "execution_count": null,
   "metadata": {},
   "outputs": [],
   "source": [
    "from ocrpostcorrection.icdar_data import generate_data"
   ]
  },
  {
   "cell_type": "code",
   "execution_count": null,
   "metadata": {},
   "outputs": [
    {
     "name": "stderr",
     "output_type": "stream",
     "text": [
      "11it [00:23,  2.15s/it]"
     ]
    },
    {
     "name": "stdout",
     "output_type": "stream",
     "text": [
      "CPU times: user 21.1 s, sys: 1.04 s, total: 22.1 s\n",
      "Wall time: 23.7 s\n"
     ]
    },
    {
     "name": "stderr",
     "output_type": "stream",
     "text": [
      "\n"
     ]
    }
   ],
   "source": [
    "%%time\n",
    "# Train and val data\n",
    "in_dir = data_base_dir/'ICDAR2019_POCR_competition_dataset'/'ICDAR2019_POCR_competition_training_18M_without_Finnish'\n",
    "data, md = generate_data(in_dir)"
   ]
  },
  {
   "cell_type": "code",
   "execution_count": null,
   "metadata": {},
   "outputs": [
    {
     "name": "stderr",
     "output_type": "stream",
     "text": [
      "11it [00:06,  1.73it/s]\n"
     ]
    }
   ],
   "source": [
    "# test data\n",
    "in_dir = data_base_dir/'ICDAR2019_POCR_competition_dataset'/'ICDAR2019_POCR_competition_evaluation_4M_without_Finnish'\n",
    "data_test, md_test = generate_data(in_dir)"
   ]
  },
  {
   "cell_type": "code",
   "execution_count": null,
   "metadata": {},
   "outputs": [],
   "source": [
    "out_dir = data_base_dir/'ocrpostcorrection'/'icdar-dataset-20220207'"
   ]
  },
  {
   "cell_type": "code",
   "execution_count": null,
   "metadata": {},
   "outputs": [],
   "source": [
    "X_train = pd.read_csv(out_dir/'train.csv', index_col=0)\n",
    "X_val = pd.read_csv(out_dir/'val.csv', index_col=0)\n",
    "X_test = pd.read_csv(out_dir/'test.csv', index_col=0)"
   ]
  },
  {
   "cell_type": "code",
   "execution_count": null,
   "metadata": {},
   "outputs": [
    {
     "data": {
      "text/html": [
       "<div>\n",
       "<style scoped>\n",
       "    .dataframe tbody tr th:only-of-type {\n",
       "        vertical-align: middle;\n",
       "    }\n",
       "\n",
       "    .dataframe tbody tr th {\n",
       "        vertical-align: top;\n",
       "    }\n",
       "\n",
       "    .dataframe thead th {\n",
       "        text-align: right;\n",
       "    }\n",
       "</style>\n",
       "<table border=\"1\" class=\"dataframe\">\n",
       "  <thead>\n",
       "    <tr style=\"text-align: right;\">\n",
       "      <th></th>\n",
       "      <th>ocr</th>\n",
       "      <th>gs</th>\n",
       "      <th>ocr_aligned</th>\n",
       "      <th>gs_aligned</th>\n",
       "      <th>start</th>\n",
       "      <th>len_ocr</th>\n",
       "      <th>language</th>\n",
       "      <th>subset</th>\n",
       "      <th>dataset</th>\n",
       "      <th>len_gs</th>\n",
       "      <th>diff</th>\n",
       "    </tr>\n",
       "  </thead>\n",
       "  <tbody>\n",
       "    <tr>\n",
       "      <th>0</th>\n",
       "      <td>ie</td>\n",
       "      <td>je</td>\n",
       "      <td>ie</td>\n",
       "      <td>je</td>\n",
       "      <td>10</td>\n",
       "      <td>2</td>\n",
       "      <td>SL</td>\n",
       "      <td>SL1</td>\n",
       "      <td>train</td>\n",
       "      <td>2</td>\n",
       "      <td>0</td>\n",
       "    </tr>\n",
       "    <tr>\n",
       "      <th>1</th>\n",
       "      <td>Raž!:</td>\n",
       "      <td>Bog</td>\n",
       "      <td>Raž!:</td>\n",
       "      <td>@@Bog</td>\n",
       "      <td>13</td>\n",
       "      <td>5</td>\n",
       "      <td>SL</td>\n",
       "      <td>SL1</td>\n",
       "      <td>train</td>\n",
       "      <td>3</td>\n",
       "      <td>2</td>\n",
       "    </tr>\n",
       "    <tr>\n",
       "      <th>2</th>\n",
       "      <td>stvaeil</td>\n",
       "      <td>stvaril</td>\n",
       "      <td>stvaeil</td>\n",
       "      <td>stvaril</td>\n",
       "      <td>19</td>\n",
       "      <td>7</td>\n",
       "      <td>SL</td>\n",
       "      <td>SL1</td>\n",
       "      <td>train</td>\n",
       "      <td>7</td>\n",
       "      <td>0</td>\n",
       "    </tr>\n",
       "    <tr>\n",
       "      <th>3</th>\n",
       "      <td>n^hn</td>\n",
       "      <td>nebö</td>\n",
       "      <td>n^hn</td>\n",
       "      <td>nebö</td>\n",
       "      <td>27</td>\n",
       "      <td>4</td>\n",
       "      <td>SL</td>\n",
       "      <td>SL1</td>\n",
       "      <td>train</td>\n",
       "      <td>4</td>\n",
       "      <td>0</td>\n",
       "    </tr>\n",
       "    <tr>\n",
       "      <th>4</th>\n",
       "      <td>in</td>\n",
       "      <td>in zemljo.</td>\n",
       "      <td>in@@@@@@@@</td>\n",
       "      <td>in zemljo.</td>\n",
       "      <td>32</td>\n",
       "      <td>2</td>\n",
       "      <td>SL</td>\n",
       "      <td>SL1</td>\n",
       "      <td>train</td>\n",
       "      <td>10</td>\n",
       "      <td>-8</td>\n",
       "    </tr>\n",
       "  </tbody>\n",
       "</table>\n",
       "</div>"
      ],
      "text/plain": [
       "       ocr          gs ocr_aligned  gs_aligned  start  len_ocr language  \\\n",
       "0       ie          je          ie          je     10        2       SL   \n",
       "1    Raž!:         Bog       Raž!:       @@Bog     13        5       SL   \n",
       "2  stvaeil     stvaril     stvaeil     stvaril     19        7       SL   \n",
       "3     n^hn        nebö        n^hn        nebö     27        4       SL   \n",
       "4       in  in zemljo.  in@@@@@@@@  in zemljo.     32        2       SL   \n",
       "\n",
       "  subset dataset  len_gs  diff  \n",
       "0    SL1   train       2     0  \n",
       "1    SL1   train       3     2  \n",
       "2    SL1   train       7     0  \n",
       "3    SL1   train       4     0  \n",
       "4    SL1   train      10    -8  "
      ]
     },
     "execution_count": null,
     "metadata": {},
     "output_type": "execute_result"
    }
   ],
   "source": [
    "from ocrpostcorrection.error_correction import get_tokens_with_OCR_mistakes\n",
    "\n",
    "tdata = get_tokens_with_OCR_mistakes(data, data_test, list(X_val.file_name))\n",
    "tdata.head()"
   ]
  },
  {
   "cell_type": "code",
   "execution_count": null,
   "metadata": {},
   "outputs": [
    {
     "name": "stdout",
     "output_type": "stream",
     "text": [
      "token data: 1853825 samples\n"
     ]
    }
   ],
   "source": [
    "print('token data:', tdata.shape[0], 'samples')"
   ]
  },
  {
   "cell_type": "code",
   "execution_count": null,
   "metadata": {},
   "outputs": [
    {
     "data": {
      "text/plain": [
       "train    1323937\n",
       "test      384463\n",
       "val       145425\n",
       "Name: dataset, dtype: int64"
      ]
     },
     "execution_count": null,
     "metadata": {},
     "output_type": "execute_result"
    }
   ],
   "source": [
    "tdata.dataset.value_counts()"
   ]
  },
  {
   "cell_type": "code",
   "execution_count": null,
   "metadata": {},
   "outputs": [],
   "source": [
    "tdata = tdata.drop_duplicates(subset=['ocr', 'gs', 'dataset'])"
   ]
  },
  {
   "cell_type": "code",
   "execution_count": null,
   "metadata": {},
   "outputs": [],
   "source": [
    "# Save to file\n",
    "out_dir = data_base_dir/'ocrpostcorrection'/'icdar-task2-dataset-20221031'\n",
    "out_dir.mkdir(exist_ok=True, parents=True)\n",
    "\n",
    "out_file = out_dir/'task2dataset-no-duplicates.csv'\n",
    "tdata.to_csv(out_file)"
   ]
  },
  {
   "cell_type": "code",
   "execution_count": null,
   "metadata": {},
   "outputs": [
    {
     "name": "stdout",
     "output_type": "stream",
     "text": [
      "token data: 1130067 samples\n"
     ]
    },
    {
     "data": {
      "text/plain": [
       "train    760429\n",
       "test     264435\n",
       "val      105203\n",
       "Name: dataset, dtype: int64"
      ]
     },
     "execution_count": null,
     "metadata": {},
     "output_type": "execute_result"
    }
   ],
   "source": [
    "print('token data:', tdata.shape[0], 'samples')\n",
    "tdata.dataset.value_counts()"
   ]
  },
  {
   "cell_type": "code",
   "execution_count": null,
   "metadata": {},
   "outputs": [
    {
     "name": "stdout",
     "output_type": "stream",
     "text": [
      "|         | ocr    | gs      | dataset   |   len_ocr |   len_gs |\n",
      "|--------:|:-------|:--------|:----------|----------:|---------:|\n",
      "| 1467397 | their  | the     | train     |         5 |        3 |\n",
      "| 1461462 | 'ti*   | 'tis    | train     |         4 |        4 |\n",
      "| 1466398 | weSk   | well    | train     |         4 |        4 |\n",
      "| 1466787 | thev   | they    | train     |         4 |        4 |\n",
      "| 1461076 | commit | commit‑ | train     |         6 |        7 |\n"
     ]
    }
   ],
   "source": [
    "print(tdata.query('dataset == \"train\"').query('language==\"EN\"')[['ocr', 'gs', 'dataset', 'len_ocr', 'len_gs']].sample(5).to_markdown())"
   ]
  },
  {
   "cell_type": "code",
   "execution_count": null,
   "metadata": {},
   "outputs": [
    {
     "name": "stdout",
     "output_type": "stream",
     "text": [
      "|       |      len_ocr |\n",
      "|:------|-------------:|\n",
      "| count | 760429       |\n",
      "| mean  |      9.23109 |\n",
      "| std   |      9.76466 |\n",
      "| min   |      1       |\n",
      "| 25%   |      6       |\n",
      "| 50%   |      8       |\n",
      "| 75%   |     11       |\n",
      "| max   |   2705       |\n"
     ]
    }
   ],
   "source": [
    "print(tdata.query('dataset == \"train\"').len_ocr.describe().to_markdown())"
   ]
  },
  {
   "cell_type": "code",
   "execution_count": null,
   "metadata": {},
   "outputs": [
    {
     "name": "stdout",
     "output_type": "stream",
     "text": [
      "|       |       len_gs |\n",
      "|:------|-------------:|\n",
      "| count | 760429       |\n",
      "| mean  |      8.83236 |\n",
      "| std   |      7.7298  |\n",
      "| min   |      0       |\n",
      "| 25%   |      6       |\n",
      "| 50%   |      8       |\n",
      "| 75%   |     11       |\n",
      "| max   |   2986       |\n"
     ]
    }
   ],
   "source": [
    "print(tdata.query('dataset == \"train\"').len_gs.describe().to_markdown())"
   ]
  },
  {
   "cell_type": "code",
   "execution_count": null,
   "metadata": {},
   "outputs": [
    {
     "data": {
      "text/plain": [
       "count    760429.000000\n",
       "mean          0.398726\n",
       "std          10.879821\n",
       "min       -2963.000000\n",
       "25%           0.000000\n",
       "50%           0.000000\n",
       "75%           1.000000\n",
       "max        2705.000000\n",
       "Name: diff, dtype: float64"
      ]
     },
     "execution_count": null,
     "metadata": {},
     "output_type": "execute_result"
    }
   ],
   "source": [
    "tdata.query('dataset == \"train\"')['diff'].describe()"
   ]
  },
  {
   "cell_type": "code",
   "execution_count": null,
   "metadata": {},
   "outputs": [
    {
     "data": {
      "text/plain": [
       "<AxesSubplot: >"
      ]
     },
     "execution_count": null,
     "metadata": {},
     "output_type": "execute_result"
    },
    {
     "data": {
      "image/png": "[encoded data removed]",
      "text/plain": [
       "<Figure size 1000x500 with 1 Axes>"
      ]
     },
     "metadata": {},
     "output_type": "display_data"
    }
   ],
   "source": [
    "tdata.query('dataset == \"train\"').len_ocr.hist(bins=1000, figsize=(10,5))"
   ]
  },
  {
   "cell_type": "code",
   "execution_count": null,
   "metadata": {},
   "outputs": [
    {
     "data": {
      "text/plain": [
       "(0.0, 30.0)"
      ]
     },
     "execution_count": null,
     "metadata": {},
     "output_type": "execute_result"
    },
    {
     "data": {
      "image/png": "[encoded data removed]",
      "text/plain": [
       "<Figure size 1000x500 with 1 Axes>"
      ]
     },
     "metadata": {},
     "output_type": "display_data"
    }
   ],
   "source": [
    "tdata.query('dataset == \"train\"').len_ocr.hist(bins=1000, figsize=(10,5))\n",
    "plt.ylim(0, 30)"
   ]
  },
  {
   "cell_type": "code",
   "execution_count": null,
   "metadata": {},
   "outputs": [
    {
     "data": {
      "text/plain": [
       "(0.0, 500.0)"
      ]
     },
     "execution_count": null,
     "metadata": {},
     "output_type": "execute_result"
    },
    {
     "data": {
      "image/png": "[encoded data removed]",
      "text/plain": [
       "<Figure size 1000x500 with 1 Axes>"
      ]
     },
     "metadata": {},
     "output_type": "display_data"
    }
   ],
   "source": [
    "tdata.query('dataset == \"train\"').len_ocr.hist(bins=1000, figsize=(10,5))\n",
    "plt.ylim(0, 100)\n",
    "plt.xlim(0, 500)"
   ]
  },
  {
   "cell_type": "code",
   "execution_count": null,
   "metadata": {},
   "outputs": [
    {
     "data": {
      "text/plain": [
       "(0.0, 100.0)"
      ]
     },
     "execution_count": null,
     "metadata": {},
     "output_type": "execute_result"
    },
    {
     "data": {
      "image/png": "[encoded data removed]",
      "text/plain": [
       "<Figure size 1000x500 with 1 Axes>"
      ]
     },
     "metadata": {},
     "output_type": "display_data"
    }
   ],
   "source": [
    "tdata.query('dataset == \"train\"').len_ocr.hist(bins=1000, figsize=(10,5))\n",
    "plt.ylim(0, 25000)\n",
    "plt.xlim(0, 100)"
   ]
  },
  {
   "cell_type": "code",
   "execution_count": null,
   "metadata": {},
   "outputs": [
    {
     "name": "stdout",
     "output_type": "stream",
     "text": [
      "|         | ocr                                                                                                                                                                                                                                                                                                                                                                                                                                                                                                                                                                                                                                                                                                                                                                                                                                                                                                                                                                                                                                                                                                                                                                                                                                                                                                                                                                                                                                                                                                     | gs           |   len_ocr |   len_gs |\n",
      "|--------:|:--------------------------------------------------------------------------------------------------------------------------------------------------------------------------------------------------------------------------------------------------------------------------------------------------------------------------------------------------------------------------------------------------------------------------------------------------------------------------------------------------------------------------------------------------------------------------------------------------------------------------------------------------------------------------------------------------------------------------------------------------------------------------------------------------------------------------------------------------------------------------------------------------------------------------------------------------------------------------------------------------------------------------------------------------------------------------------------------------------------------------------------------------------------------------------------------------------------------------------------------------------------------------------------------------------------------------------------------------------------------------------------------------------------------------------------------------------------------------------------------------------|:-------------|----------:|---------:|\n",
      "| 1465401 | 1 45 ] 5 20 ih 1 43 '7 30 5 5 sets 4.1 IQ N 67 A 18)39 21 2 -i> 25 s8 22 9 3 2 1 36 24 4 Perhapsthey all may be my Betters, And so I’ve out them in red Letters. How beat her Heart h«-w sweet the Ne When Mary heard tsar Dick did chuse His Mary his Vi- Jertinej G od Lord ! 1 «.i she,huw sweet! how sine! Again, what me gte.u Ai.cifon hasputinto the Mouth ot Cato ii certainly true. ! “ If there is a Gr.d, he must ' delight in Virtue.” But that there is Nature cries out in all her Wotks.—-Yet dailvEx perience tells us that Vice flou rishes, while Virtue starves in this sublunary Situation ; that hunest Truth is kicked out of Door to make Roi*m for Adulation and Deceit. Thrn it most be, if Vice flourishes while Virtue is neglected here that an Hereafter stands dealry demonstrated.—We fcnow that we are here but Cnildren of jaDayt the hourly pasting Bell for some departed Soul in the busy iTowns of gteat Commerce gives constant Notice of th-s, and tells us 4 hat we *re but Probationers here, sent into this World to fee how we shall behove as Citizens herejand then, ei herhyDifrase or what we ;callAcxirient, to remove to another, Xvberc we shall b” punished or re warded rfee .rdin^ to the Determi nation osthc just J 'dgeofall. This 1 ppearin.' wanitdty true, oft have ji thought vithinm)selfj Gracious Lord,hsve I cultivated an Acquain tance with the Learned, the Inge nious, the Pit us, the Lovers of tVirtue, Children of Integrity,and | 127.         |      1447 |        4 |\n",
      "|   61706 | blijvende Leer aren, (want de Labadisten , dezelfde beginfels heb bendé, maar ze in de praktijk ook ^villende opVoh gen, hadden om die reden , onze Kerk reeds verla ten) dat de leer van de Neerlandfche gereformeerde Kerk * en derzelver praktijk des algemeenen Kin- derdoops in zulk eene volflrckte ftrijdigheid (ton den, dat zij ónmogelijk met elkander konden wor den ovèreengebragt. Ook heeft zig, zoo veel tot mijne kennis gekomen is, niemand opgedaan, die deze ftrijdigheid heeft opgelost, gelijk zulks ook niet gefchieden konde door iemand, die de leer on zer Kerke op denzelfden voet Verklaarde, als de Heeren Meijer en Kelderman. Bij al wat dierbaar was, riepen deze mannen openlijk om Hervorming, en toonden met kragt van reden aan, dat de open bare praktijk der Kerke met hare aangenomene grondregels behoorde overeengebragt te worden; maar, zonder hunne grondregels te betwisten, of derzelver ftrijdigheid met de algemeene praktijk weg te nemen, heeft men op den ouden algemee nen voet blijven voortgaan, zoo dat de bezwaarde Leeraars                                                                                                                                                                                                                                                                                                                                                                                                                     | PHILADELPHUS |      1043 |       12 |\n",
      "|   12685 | Ttget t aut terret: StUla, Scylla: • %ptewacy, P siacy. • Sy la, Scylla: • Mik s, Malusi •- I H* Puisćiy Iz aćhtom ipałai* a Man ta, Itala pro Mam- ma [za pi'rfi l Zbytnia Sr u- t.s, i dl n* karki Securit. Niemoże fię z*ać Jo wda który u fzy (Him Jm/tla, }.*ficza młokos wzroiłem P»rv»s, iuż akęyami privu%, Bydi powinno, aby każdy Smtor, byi Sanor w rozu mie jWf?yftko ni Swigcie iefttylko/«w, £5\" fumut, bo wfzy- //ko mknie Ziait fię bydi podściwa Pirogo, a ona ludzka Forago, W tey kompamj p'.t te, iednoż to, co peure. Z kobierca pod Całun, z łofzka ra rrary. Niebcsp eczny temu potus, komu żegluga potus. Ktorty uiławicznie vin<lcnti, b,vwai| wolenti na ludzi.                                                                                                                                                                                                                                                                                                                                                                                                                                                                                                                                                                                                                                                                                                                                                                                                               | TERMINACH    |       665 |        9 |\n",
      "| 1452991 | tono? Gracioso. Vale también chistoso, agudo , lle no de donáire y gracia. Lat. Facetus. Lepidus. Festivas. Lop. Arcad. f. 208. Por cuyo cami no el rústico , rogado de Frondoso y Gala- frón, que le divirtiesse un poco , á su gracio so modo cantó assi. Gracioso. Significa también inclinado á hacer grácias. Lat. Facilis. Pronus. Proclivis. Gracioso. Se toma assimismo por lo que fe dá de grácia ü de balde. Lat. Gratuitus, a , una. Fr. L. de Gran. Guia, part.i. cap.x. Quanto es el beneficio mas gracioso, tanto daxa al hombre mas obligado.                                                                                                                                                                                                                                                                                                                                                                                                                                                                                                                                                                                                                                                                                                                                                                                                                                                                                                                                            | tono?        |       540 |        5 |\n",
      "| 1457487 | Señal de Cosín (4>) de 40° 28' i 3\" Los datos para el calculo fon Altura del centro del Sol 1 4$ Refracción substraótivá o 22 4^ Altura verdadera del centro del Sol 1 2 2 20 Altura de Cosin (4>) 00 22 5$ Ángulo observado del limbo Merid.del Sol 40 28 13 Semidiámetro aparenté del mismo 00 16 13 Ángulo observado del centro del Sol 40 12 00 Latitud de Campanario, (¿) Sur calculada 00 02 30 Declinación del Sol n 01 41^ Con los quales, haciendo el calculo, fe hallará la inclina ción © Biblioteca Nacional                                                                                                                                                                                                                                                                                                                                                                                                                                                                                                                                                                                                                                                                                                                                                                                                                                                                                                                                                                                | Señal        |       504 |        5 |\n"
     ]
    }
   ],
   "source": [
    "print(tdata.query('dataset == \"train\"').query('len_ocr > 500')[['ocr', 'gs', 'len_ocr', 'len_gs']].sample(5).to_markdown())"
   ]
  }
 ],
 "metadata": {
  "kernelspec": {
   "display_name": "Python 3.10.4 ('nlp4dutch')",
   "language": "python",
   "name": "python3"
  }
 },
 "nbformat": 4,
 "nbformat_minor": 2
}
