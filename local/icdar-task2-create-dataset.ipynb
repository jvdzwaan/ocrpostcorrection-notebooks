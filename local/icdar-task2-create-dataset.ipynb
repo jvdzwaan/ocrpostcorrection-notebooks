{
 "cells": [
  {
   "cell_type": "code",
   "execution_count": null,
   "metadata": {},
   "outputs": [],
   "source": [
    "%load_ext autoreload\n",
    "%autoreload 2"
   ]
  },
  {
   "cell_type": "code",
   "execution_count": null,
   "metadata": {},
   "outputs": [],
   "source": [
    "import pandas as pd\n",
    "import matplotlib.pyplot as plt\n",
    "\n",
    "from pathlib import Path"
   ]
  },
  {
   "cell_type": "code",
   "execution_count": null,
   "metadata": {},
   "outputs": [],
   "source": [
    "data_base_dir = Path('/Users/janneke/Documents/Documents – Janneke’s MacBook/data/')\n",
    "data_base_dir.mkdir(exist_ok=True, parents=True)"
   ]
  },
  {
   "cell_type": "code",
   "execution_count": null,
   "metadata": {},
   "outputs": [],
   "source": [
    "from ocrpostcorrection.icdar_data import generate_data"
   ]
  },
  {
   "cell_type": "code",
   "execution_count": null,
   "metadata": {},
   "outputs": [
    {
     "name": "stderr",
     "output_type": "stream",
     "text": [
      "11it [00:24,  2.26s/it]"
     ]
    },
    {
     "name": "stdout",
     "output_type": "stream",
     "text": [
      "CPU times: user 22.2 s, sys: 1.25 s, total: 23.4 s\n",
      "Wall time: 24.9 s\n"
     ]
    },
    {
     "name": "stderr",
     "output_type": "stream",
     "text": [
      "\n"
     ]
    }
   ],
   "source": [
    "%%time\n",
    "# Train and val data\n",
    "in_dir = data_base_dir/'ICDAR2019_POCR_competition_dataset'/'ICDAR2019_POCR_competition_training_18M_without_Finnish'\n",
    "data, md = generate_data(in_dir)"
   ]
  },
  {
   "cell_type": "code",
   "execution_count": null,
   "metadata": {},
   "outputs": [
    {
     "name": "stderr",
     "output_type": "stream",
     "text": [
      "11it [00:06,  1.78it/s]\n"
     ]
    }
   ],
   "source": [
    "# test data\n",
    "in_dir = data_base_dir/'ICDAR2019_POCR_competition_dataset'/'ICDAR2019_POCR_competition_evaluation_4M_without_Finnish'\n",
    "data_test, md_test = generate_data(in_dir)"
   ]
  },
  {
   "cell_type": "code",
   "execution_count": null,
   "metadata": {},
   "outputs": [],
   "source": [
    "out_dir = data_base_dir/'ocrpostcorrection'/'icdar-dataset-20220207'"
   ]
  },
  {
   "cell_type": "code",
   "execution_count": null,
   "metadata": {},
   "outputs": [],
   "source": [
    "X_train = pd.read_csv(out_dir/'train.csv', index_col=0)\n",
    "X_val = pd.read_csv(out_dir/'val.csv', index_col=0)\n",
    "X_test = pd.read_csv(out_dir/'test.csv', index_col=0)"
   ]
  },
  {
   "cell_type": "code",
   "execution_count": null,
   "metadata": {},
   "outputs": [
    {
     "data": {
      "text/html": [
       "<div>\n",
       "<style scoped>\n",
       "    .dataframe tbody tr th:only-of-type {\n",
       "        vertical-align: middle;\n",
       "    }\n",
       "\n",
       "    .dataframe tbody tr th {\n",
       "        vertical-align: top;\n",
       "    }\n",
       "\n",
       "    .dataframe thead th {\n",
       "        text-align: right;\n",
       "    }\n",
       "</style>\n",
       "<table border=\"1\" class=\"dataframe\">\n",
       "  <thead>\n",
       "    <tr style=\"text-align: right;\">\n",
       "      <th></th>\n",
       "      <th>ocr</th>\n",
       "      <th>gs</th>\n",
       "      <th>ocr_aligned</th>\n",
       "      <th>gs_aligned</th>\n",
       "      <th>start</th>\n",
       "      <th>len_ocr</th>\n",
       "      <th>language</th>\n",
       "      <th>subset</th>\n",
       "      <th>dataset</th>\n",
       "      <th>len_gs</th>\n",
       "      <th>diff</th>\n",
       "    </tr>\n",
       "  </thead>\n",
       "  <tbody>\n",
       "    <tr>\n",
       "      <th>0</th>\n",
       "      <td>ie</td>\n",
       "      <td>je</td>\n",
       "      <td>ie</td>\n",
       "      <td>je</td>\n",
       "      <td>10</td>\n",
       "      <td>2</td>\n",
       "      <td>SL</td>\n",
       "      <td>SL1</td>\n",
       "      <td>train</td>\n",
       "      <td>2</td>\n",
       "      <td>0</td>\n",
       "    </tr>\n",
       "    <tr>\n",
       "      <th>1</th>\n",
       "      <td>Raž!:</td>\n",
       "      <td>Bog</td>\n",
       "      <td>Raž!:</td>\n",
       "      <td>@@Bog</td>\n",
       "      <td>13</td>\n",
       "      <td>5</td>\n",
       "      <td>SL</td>\n",
       "      <td>SL1</td>\n",
       "      <td>train</td>\n",
       "      <td>3</td>\n",
       "      <td>2</td>\n",
       "    </tr>\n",
       "    <tr>\n",
       "      <th>2</th>\n",
       "      <td>stvaeil</td>\n",
       "      <td>stvaril</td>\n",
       "      <td>stvaeil</td>\n",
       "      <td>stvaril</td>\n",
       "      <td>19</td>\n",
       "      <td>7</td>\n",
       "      <td>SL</td>\n",
       "      <td>SL1</td>\n",
       "      <td>train</td>\n",
       "      <td>7</td>\n",
       "      <td>0</td>\n",
       "    </tr>\n",
       "    <tr>\n",
       "      <th>3</th>\n",
       "      <td>n^hn</td>\n",
       "      <td>nebö</td>\n",
       "      <td>n^hn</td>\n",
       "      <td>nebö</td>\n",
       "      <td>27</td>\n",
       "      <td>4</td>\n",
       "      <td>SL</td>\n",
       "      <td>SL1</td>\n",
       "      <td>train</td>\n",
       "      <td>4</td>\n",
       "      <td>0</td>\n",
       "    </tr>\n",
       "    <tr>\n",
       "      <th>4</th>\n",
       "      <td>in</td>\n",
       "      <td>in zemljo.</td>\n",
       "      <td>in@@@@@@@@</td>\n",
       "      <td>in zemljo.</td>\n",
       "      <td>32</td>\n",
       "      <td>2</td>\n",
       "      <td>SL</td>\n",
       "      <td>SL1</td>\n",
       "      <td>train</td>\n",
       "      <td>10</td>\n",
       "      <td>-8</td>\n",
       "    </tr>\n",
       "  </tbody>\n",
       "</table>\n",
       "</div>"
      ],
      "text/plain": [
       "       ocr          gs ocr_aligned  gs_aligned  start  len_ocr language  \\\n",
       "0       ie          je          ie          je     10        2       SL   \n",
       "1    Raž!:         Bog       Raž!:       @@Bog     13        5       SL   \n",
       "2  stvaeil     stvaril     stvaeil     stvaril     19        7       SL   \n",
       "3     n^hn        nebö        n^hn        nebö     27        4       SL   \n",
       "4       in  in zemljo.  in@@@@@@@@  in zemljo.     32        2       SL   \n",
       "\n",
       "  subset dataset  len_gs  diff  \n",
       "0    SL1   train       2     0  \n",
       "1    SL1   train       3     2  \n",
       "2    SL1   train       7     0  \n",
       "3    SL1   train       4     0  \n",
       "4    SL1   train      10    -8  "
      ]
     },
     "execution_count": null,
     "metadata": {},
     "output_type": "execute_result"
    }
   ],
   "source": [
    "from ocrpostcorrection.error_correction import get_tokens_with_OCR_mistakes\n",
    "\n",
    "tdata = get_tokens_with_OCR_mistakes(data, data_test, list(X_val.file_name))\n",
    "tdata.head()"
   ]
  },
  {
   "cell_type": "code",
   "execution_count": null,
   "metadata": {},
   "outputs": [
    {
     "name": "stdout",
     "output_type": "stream",
     "text": [
      "token data: 1853825 samples\n"
     ]
    }
   ],
   "source": [
    "print('token data:', tdata.shape[0], 'samples')"
   ]
  },
  {
   "cell_type": "code",
   "execution_count": null,
   "metadata": {},
   "outputs": [
    {
     "data": {
      "text/plain": [
       "train    1323937\n",
       "test      384463\n",
       "val       145425\n",
       "Name: dataset, dtype: int64"
      ]
     },
     "execution_count": null,
     "metadata": {},
     "output_type": "execute_result"
    }
   ],
   "source": [
    "tdata.dataset.value_counts()"
   ]
  },
  {
   "cell_type": "code",
   "execution_count": null,
   "metadata": {},
   "outputs": [],
   "source": [
    "tdata = tdata.drop_duplicates(subset=['ocr', 'gs', 'dataset'])"
   ]
  },
  {
   "cell_type": "code",
   "execution_count": null,
   "metadata": {},
   "outputs": [],
   "source": [
    "# Save to file\n",
    "out_dir = data_base_dir/'ocrpostcorrection'/'icdar-task2-dataset-20221031'\n",
    "out_dir.mkdir(exist_ok=True, parents=True)\n",
    "\n",
    "out_file = out_dir/'task2dataset-no-duplicates.csv'\n",
    "tdata.to_csv(out_file)"
   ]
  },
  {
   "cell_type": "code",
   "execution_count": null,
   "metadata": {},
   "outputs": [
    {
     "name": "stdout",
     "output_type": "stream",
     "text": [
      "token data: 1130067 samples\n"
     ]
    },
    {
     "data": {
      "text/plain": [
       "train    760429\n",
       "test     264435\n",
       "val      105203\n",
       "Name: dataset, dtype: int64"
      ]
     },
     "execution_count": null,
     "metadata": {},
     "output_type": "execute_result"
    }
   ],
   "source": [
    "print('token data:', tdata.shape[0], 'samples')\n",
    "tdata.dataset.value_counts()"
   ]
  },
  {
   "cell_type": "code",
   "execution_count": null,
   "metadata": {},
   "outputs": [
    {
     "data": {
      "text/plain": [
       "count    1.130067e+06\n",
       "mean     9.114542e+00\n",
       "std      1.036306e+01\n",
       "min      1.000000e+00\n",
       "25%      6.000000e+00\n",
       "50%      8.000000e+00\n",
       "75%      1.100000e+01\n",
       "max      3.255000e+03\n",
       "Name: len_ocr, dtype: float64"
      ]
     },
     "execution_count": null,
     "metadata": {},
     "output_type": "execute_result"
    }
   ],
   "source": [
    "tdata.len_ocr.describe()"
   ]
  },
  {
   "cell_type": "code",
   "execution_count": null,
   "metadata": {},
   "outputs": [
    {
     "data": {
      "text/plain": [
       "count    1.130067e+06\n",
       "mean     8.718004e+00\n",
       "std      7.753768e+00\n",
       "min      0.000000e+00\n",
       "25%      6.000000e+00\n",
       "50%      8.000000e+00\n",
       "75%      1.100000e+01\n",
       "max      2.986000e+03\n",
       "Name: len_gs, dtype: float64"
      ]
     },
     "execution_count": null,
     "metadata": {},
     "output_type": "execute_result"
    }
   ],
   "source": [
    "tdata.len_gs.describe()"
   ]
  },
  {
   "cell_type": "code",
   "execution_count": null,
   "metadata": {},
   "outputs": [
    {
     "data": {
      "text/plain": [
       "count    1.130067e+06\n",
       "mean     3.965376e-01\n",
       "std      1.145284e+01\n",
       "min     -2.963000e+03\n",
       "25%      0.000000e+00\n",
       "50%      0.000000e+00\n",
       "75%      1.000000e+00\n",
       "max      3.255000e+03\n",
       "Name: diff, dtype: float64"
      ]
     },
     "execution_count": null,
     "metadata": {},
     "output_type": "execute_result"
    }
   ],
   "source": [
    "tdata['diff'].describe()"
   ]
  },
  {
   "cell_type": "code",
   "execution_count": null,
   "metadata": {},
   "outputs": [
    {
     "data": {
      "text/plain": [
       "<AxesSubplot: >"
      ]
     },
     "execution_count": null,
     "metadata": {},
     "output_type": "execute_result"
    },
    {
     "data": {
      "image/png": "[encoded data removed]",
      "text/plain": [
       "<Figure size 1000x500 with 1 Axes>"
      ]
     },
     "metadata": {},
     "output_type": "display_data"
    }
   ],
   "source": [
    "tdata.len_ocr.hist(bins=1000, figsize=(10,5))"
   ]
  },
  {
   "cell_type": "code",
   "execution_count": null,
   "metadata": {},
   "outputs": [
    {
     "data": {
      "text/plain": [
       "(0.0, 30.0)"
      ]
     },
     "execution_count": null,
     "metadata": {},
     "output_type": "execute_result"
    },
    {
     "data": {
      "image/png": "[encoded data removed]",
      "text/plain": [
       "<Figure size 1000x500 with 1 Axes>"
      ]
     },
     "metadata": {},
     "output_type": "display_data"
    }
   ],
   "source": [
    "tdata.len_ocr.hist(bins=1000, figsize=(10,5))\n",
    "plt.ylim(0, 30)"
   ]
  },
  {
   "cell_type": "code",
   "execution_count": null,
   "metadata": {},
   "outputs": [
    {
     "data": {
      "text/plain": [
       "(0.0, 30.0)"
      ]
     },
     "execution_count": null,
     "metadata": {},
     "output_type": "execute_result"
    },
    {
     "data": {
      "image/png": "[encoded data removed]",
      "text/plain": [
       "<Figure size 1000x500 with 1 Axes>"
      ]
     },
     "metadata": {},
     "output_type": "display_data"
    }
   ],
   "source": [
    "tdata.len_ocr.hist(bins=1000, figsize=(10,5))\n",
    "plt.xlim(0, 30)"
   ]
  }
 ],
 "metadata": {
  "kernelspec": {
   "display_name": "Python 3.10.4 ('nlp4dutch')",
   "language": "python",
   "name": "python3"
  }
 },
 "nbformat": 4,
 "nbformat_minor": 2
}
